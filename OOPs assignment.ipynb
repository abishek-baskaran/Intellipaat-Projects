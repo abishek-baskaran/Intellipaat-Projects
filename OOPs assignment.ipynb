{
 "cells": [
  {
   "cell_type": "markdown",
   "id": "1bcf032a-0dc1-4fa8-b926-5857a112cf0f",
   "metadata": {},
   "source": [
    "#### Q1\n",
    "Write a Python program to demonstrate multiple inheritance."
   ]
  },
  {
   "cell_type": "code",
   "execution_count": 1,
   "id": "f6387efd-b6af-4763-a877-bfbb20bd8872",
   "metadata": {},
   "outputs": [],
   "source": [
    "from datetime import datetime\n",
    "\n",
    "class Employee(object):\n",
    "    def __init__(self):\n",
    "        self.employee_id = None\n",
    "        self.gender = None\n",
    "        self.salary = None\n",
    "        self.rating = None\n",
    "\n",
    "    def get(self):\n",
    "        while self.employee_id is None:\n",
    "            try:\n",
    "                employee_id = int(input('Enter Employee ID: '))\n",
    "                self.employee_id = employee_id\n",
    "            except:\n",
    "                print('Not a valid Employee ID')\n",
    "\n",
    "        while self.gender is None:\n",
    "            gender = input('Enter Gender (M/F): ')\n",
    "            if gender.lower() in ['m', 'f']:\n",
    "                self.gender = gender\n",
    "            else:\n",
    "                print('Not a valid gender')\n",
    "\n",
    "        while self.salary is None:\n",
    "            try:\n",
    "                salary = int(input('Enter salary: '))\n",
    "                self.salary = salary\n",
    "            except:\n",
    "                print('Not a valid salary')\n",
    "        while self.rating is None:\n",
    "            try:\n",
    "                rating = int(input('Enter rating: '))\n",
    "                if rating >= 0 and rating <= 5: \n",
    "                    self.rating = rating\n",
    "                else:\n",
    "                    print('Not a valid rating')\n",
    "            except:\n",
    "                print('Not a valid rating')\n",
    "\n",
    "\n",
    "class JoiningDetail(object):\n",
    "    def __init__(self):\n",
    "        self.doj = None\n",
    "\n",
    "    def get_doj(self):\n",
    "        while self.doj is None:\n",
    "            doj = input('Enter date of joining (dd-mm-yyyy): ')\n",
    "            try:\n",
    "                self.doj = datetime.strptime(doj, '%d-%m-%Y')\n",
    "            except:\n",
    "                print('Not a valid date')\n",
    "\n",
    "\n",
    "class Information(Employee, JoiningDetail):\n",
    "    def __init__(self):\n",
    "        count = int(input('Enter number of employees: '))\n",
    "        self.info = []\n",
    "        for _ in range(count):\n",
    "            emp = Employee()\n",
    "            emp.get()\n",
    "            jd = JoiningDetail()\n",
    "            jd.get_doj()\n",
    "            self.info.append([emp.employee_id, emp.gender, emp.rating, emp.salary, jd.doj])\n",
    "\n",
    "    def readData(self):\n",
    "        ratings = [i[2] for i in self.info]\n",
    "        sorted_ratings = sorted(ratings, reverse=True)        \n",
    "        top_3_employees = []\n",
    "        while len(top_3_employees) < 3:\n",
    "            for i, j in enumerate(ratings):\n",
    "                if j in sorted_ratings[:3]:\n",
    "                    top_3_employees.append(self.info[i])\n",
    "        top_3_employees.sort(key=lambda x: x[4])\n",
    "\n",
    "        for i, j in enumerate(top_3_employees):\n",
    "            print(f\"Employee {i}: \\n\\tid: {j[0]}\\tgender: {j[1]}\\trating: {j[2]}\\tsalary: {j[3]}\\t joining: {datetime.strftime(j[4], '%d-%m-%Y')}\")"
   ]
  },
  {
   "cell_type": "code",
   "execution_count": 2,
   "id": "25dc3101-4329-4536-8152-76964074c84a",
   "metadata": {},
   "outputs": [
    {
     "name": "stdin",
     "output_type": "stream",
     "text": [
      "Enter number of employees:  3\n",
      "Enter Employee ID:  1\n",
      "Enter Gender (M/F):  m\n",
      "Enter salary:  2000\n",
      "Enter rating:  5\n",
      "Enter date of joining (dd-mm-yyyy):  10-10-2020\n",
      "Enter Employee ID:  2\n",
      "Enter Gender (M/F):  f\n",
      "Enter salary:  1500\n",
      "Enter rating:  4\n",
      "Enter date of joining (dd-mm-yyyy):  10-10-2021\n",
      "Enter Employee ID:  3\n",
      "Enter Gender (M/F):  m\n",
      "Enter salary:  1000\n",
      "Enter rating:  4\n",
      "Enter date of joining (dd-mm-yyyy):  10-10-2022\n"
     ]
    }
   ],
   "source": [
    "x = Information()"
   ]
  },
  {
   "cell_type": "code",
   "execution_count": 3,
   "id": "a817933e-151f-40ce-8184-6d734e26f83e",
   "metadata": {},
   "outputs": [
    {
     "name": "stdout",
     "output_type": "stream",
     "text": [
      "Employee 0: \n",
      "\tid: 1\tgender: m\trating: 5\tsalary: 2000\t joining: 10-10-2020\n",
      "Employee 1: \n",
      "\tid: 2\tgender: f\trating: 4\tsalary: 1500\t joining: 10-10-2021\n",
      "Employee 2: \n",
      "\tid: 3\tgender: m\trating: 4\tsalary: 1000\t joining: 10-10-2022\n"
     ]
    }
   ],
   "source": [
    "x.readData()"
   ]
  },
  {
   "cell_type": "markdown",
   "id": "05ea5589-a793-4c51-90c1-a36d0e704c9c",
   "metadata": {},
   "source": [
    "#### Q2\n",
    "Write a python program to demonstrate polymorphism"
   ]
  },
  {
   "cell_type": "code",
   "execution_count": 4,
   "id": "646f9fbd-d967-4471-94d9-518a299c11a9",
   "metadata": {},
   "outputs": [
    {
     "name": "stdout",
     "output_type": "stream",
     "text": [
      "Total Fare: 125\n"
     ]
    }
   ],
   "source": [
    "class Vehicle(object):\n",
    "    def __init__(self, vehicle_type):\n",
    "        self.vehicle_type = vehicle_type\n",
    "\n",
    "    def fare(self, f):\n",
    "        return f\n",
    "\n",
    "bus = Vehicle('bus')\n",
    "car = Vehicle('car')\n",
    "train = Vehicle('train')\n",
    "truck = Vehicle('truck')\n",
    "ship = Vehicle('ship')\n",
    "\n",
    "total_fare = bus.fare(20) + car.fare(50) + train.fare(10) + truck.fare(15) + ship.fare(30)\n",
    "print(f'Total Fare: {total_fare}')"
   ]
  },
  {
   "cell_type": "markdown",
   "id": "89c920a7-36b2-4ad3-8599-a276cc43fe3f",
   "metadata": {},
   "source": [
    "#### Q3\n",
    "Consider an ongoing test cricket series. Calculate the highest number of runs scored by an individual cricketer in both of the matches. Create a python max_score(M) that reads a dictionary M that recognizes the player with the highest total score. This function will return (Top player, Total Score).\n",
    "\n",
    "```\n",
    "input: max_score({'test1': {'Dhoni':56, 'Balaji':85}, 'test2': {'Dhoni':87, 'Balaji':200}})\n",
    "output: ('Balaji',200)\n",
    "```"
   ]
  },
  {
   "cell_type": "code",
   "execution_count": 5,
   "id": "6ebfa80b-3bf3-44f9-b0ec-b9cc6b8caa15",
   "metadata": {},
   "outputs": [
    {
     "data": {
      "text/plain": [
       "('Balaji', 200)"
      ]
     },
     "execution_count": 5,
     "metadata": {},
     "output_type": "execute_result"
    }
   ],
   "source": [
    "scores = {'test1': {'Dhoni':56, 'Balaji':85}, 'test2': {'Dhoni':87, 'Balaji':200}}\n",
    "\n",
    "def max_score(scores):\n",
    "    mx = None\n",
    "    for match, scorecard in scores.items():\n",
    "        for player, score in scorecard.items():\n",
    "            if mx is None or score > mx[1]:\n",
    "                mx = (player, score)\n",
    "    return mx\n",
    "    \n",
    "max_score(scores)"
   ]
  },
  {
   "cell_type": "markdown",
   "id": "5c8501b2-5f77-4ab3-a701-e9b724649457",
   "metadata": {},
   "source": [
    "#### Q4\n",
    "\n",
    "Create a simple card game in which there are 8 cards which are randomly chosen from a deck. The first card is shown face up. The game asks the player to predict whether the next card in the selection will have a higher or lower value than the currently shown card. Of the player guesses correctly, they get 20 points, if they choose incorrectly, they lose 15 points."
   ]
  },
  {
   "cell_type": "code",
   "execution_count": 6,
   "id": "86a80c77-41cf-47c4-94ad-8810b6c1d844",
   "metadata": {},
   "outputs": [
    {
     "name": "stdout",
     "output_type": "stream",
     "text": [
      "Card remaining: 7\t Open card: 10 \t Current score: 0\n"
     ]
    },
    {
     "name": "stdin",
     "output_type": "stream",
     "text": [
      "Guess higher or lower (1: Higher, 0: Lower):  1\n"
     ]
    },
    {
     "name": "stdout",
     "output_type": "stream",
     "text": [
      "Card remaining: 6\t Open card: 5 \t Current score: -15\n"
     ]
    },
    {
     "name": "stdin",
     "output_type": "stream",
     "text": [
      "Guess higher or lower (1: Higher, 0: Lower):  0\n"
     ]
    },
    {
     "name": "stdout",
     "output_type": "stream",
     "text": [
      "Card remaining: 5\t Open card: 9 \t Current score: -30\n"
     ]
    },
    {
     "name": "stdin",
     "output_type": "stream",
     "text": [
      "Guess higher or lower (1: Higher, 0: Lower):  1\n"
     ]
    },
    {
     "name": "stdout",
     "output_type": "stream",
     "text": [
      "Card remaining: 4\t Open card: 6 \t Current score: -45\n"
     ]
    },
    {
     "name": "stdin",
     "output_type": "stream",
     "text": [
      "Guess higher or lower (1: Higher, 0: Lower):  1\n"
     ]
    },
    {
     "name": "stdout",
     "output_type": "stream",
     "text": [
      "Card remaining: 3\t Open card: 13 \t Current score: -25\n"
     ]
    },
    {
     "name": "stdin",
     "output_type": "stream",
     "text": [
      "Guess higher or lower (1: Higher, 0: Lower):  1\n"
     ]
    },
    {
     "name": "stdout",
     "output_type": "stream",
     "text": [
      "Card remaining: 2\t Open card: 10 \t Current score: -40\n"
     ]
    },
    {
     "name": "stdin",
     "output_type": "stream",
     "text": [
      "Guess higher or lower (1: Higher, 0: Lower):  1\n"
     ]
    },
    {
     "name": "stdout",
     "output_type": "stream",
     "text": [
      "Card remaining: 1\t Open card: 12 \t Current score: -20\n"
     ]
    },
    {
     "name": "stdin",
     "output_type": "stream",
     "text": [
      "Guess higher or lower (1: Higher, 0: Lower):  1\n"
     ]
    },
    {
     "data": {
      "text/plain": [
       "'Total score: -35'"
      ]
     },
     "execution_count": 6,
     "metadata": {},
     "output_type": "execute_result"
    }
   ],
   "source": [
    "import random\n",
    "\n",
    "def card_game():\n",
    "    cards = list(range(1,14)) * 4\n",
    "    random.shuffle(cards)\n",
    "    play_cards = cards[:8]\n",
    "    score = 0    \n",
    "    while len(play_cards) > 1:\n",
    "        open_card = play_cards.pop()\n",
    "        print(f'Card remaining: {len(play_cards)}\\t Open card: {open_card} \\t Current score: {score}')\n",
    "\n",
    "        guess = int(input('Guess higher or lower (1: Higher, 0: Lower): '))\n",
    "        if guess in [0, 1]:\n",
    "            if guess:\n",
    "                if open_card < play_cards[-1]:\n",
    "                    score += 20\n",
    "                else:\n",
    "                    score -= 15\n",
    "            if not guess:\n",
    "                if open_card > play_cards[-1]:\n",
    "                    score += 20\n",
    "                else:\n",
    "                    score -= 15\n",
    "        else:\n",
    "            print('Enter valid input')\n",
    "    return f'Total score: {score}'\n",
    "\n",
    "card_game()"
   ]
  },
  {
   "cell_type": "markdown",
   "id": "d2eb2c72-79a3-427a-bd0d-f1a8a930e7dc",
   "metadata": {},
   "source": [
    "#### Q5\n",
    "\n",
    "Create an empty dictionary called car_0. Then fill the dictionary with keys: speed, x_position and y_position.\n",
    "\n",
    "```\n",
    "car_0 = {'x_position': 10, 'y_position': 72, 'speed': 'medium'}\n",
    "```\n",
    "\n",
    "a) If the speeed is slow, x_pos gets incremented by 2\n",
    "\n",
    "b) If speed is medium, x_pos gets incremented by 9\n",
    "\n",
    "c) If speed is fast, x_pos gets incremented by 22"
   ]
  },
  {
   "cell_type": "code",
   "execution_count": 7,
   "id": "0a39aa50-31ab-446b-889e-e60bc0d2568a",
   "metadata": {},
   "outputs": [
    {
     "name": "stdout",
     "output_type": "stream",
     "text": [
      "{'x_position': 19, 'y_position': 72, 'speed': 'medium'}\n"
     ]
    }
   ],
   "source": [
    "car_0 = {}\n",
    "\n",
    "car_0['x_position'] = 10\n",
    "car_0['y_position'] = 72\n",
    "car_0['speed'] = 'medium'\n",
    "\n",
    "if car_0['speed'] == 'slow':\n",
    "    car_0['x_position'] += 2\n",
    "elif car_0['speed'] == 'medium':\n",
    "    car_0['x_position'] += 9\n",
    "elif car_0['speed'] == 'fast':\n",
    "    car_0['x_position'] += 22\n",
    "\n",
    "print(car_0)"
   ]
  },
  {
   "cell_type": "markdown",
   "id": "0a201a1e-add6-4bde-a42c-b3f834ee4014",
   "metadata": {},
   "source": [
    "#### Q6\n",
    "\n",
    "Show a basic implementation of abstraction in python using the abstract classes."
   ]
  },
  {
   "cell_type": "code",
   "execution_count": 8,
   "id": "11a7a4bb-492d-405c-926d-75bdcb3aa6d4",
   "metadata": {},
   "outputs": [],
   "source": [
    "from abc import ABC, abstractmethod\n",
    "\n",
    "class Animal(ABC):\n",
    "    def __init__(self, name):\n",
    "        self.name = name\n",
    "\n",
    "    @abstractmethod\n",
    "    def sound(self):\n",
    "        pass\n",
    "\n",
    "class Cat(Animal):\n",
    "    def sound(self):\n",
    "        return 'Meowww'"
   ]
  },
  {
   "cell_type": "code",
   "execution_count": 9,
   "id": "cb8e1ce2-a140-46cf-b9c6-dd309c33e55c",
   "metadata": {},
   "outputs": [
    {
     "ename": "TypeError",
     "evalue": "Can't instantiate abstract class Animal with abstract method sound",
     "output_type": "error",
     "traceback": [
      "\u001b[1;31m---------------------------------------------------------------------------\u001b[0m",
      "\u001b[1;31mTypeError\u001b[0m                                 Traceback (most recent call last)",
      "Cell \u001b[1;32mIn[9], line 1\u001b[0m\n\u001b[1;32m----> 1\u001b[0m animal \u001b[38;5;241m=\u001b[39m \u001b[43mAnimal\u001b[49m\u001b[43m(\u001b[49m\u001b[43m)\u001b[49m \u001b[38;5;66;03m#results in error\u001b[39;00m\n",
      "\u001b[1;31mTypeError\u001b[0m: Can't instantiate abstract class Animal with abstract method sound"
     ]
    }
   ],
   "source": [
    "animal = Animal() #results in error"
   ]
  },
  {
   "cell_type": "code",
   "execution_count": 10,
   "id": "f618a49f-27ff-4107-b21d-ca781f54c358",
   "metadata": {},
   "outputs": [
    {
     "name": "stdout",
     "output_type": "stream",
     "text": [
      "Meowww\n"
     ]
    }
   ],
   "source": [
    "cat = Cat('Leo')\n",
    "print(cat.sound())"
   ]
  },
  {
   "cell_type": "markdown",
   "id": "4c9e7c56-a514-4834-b75c-a711f017fb47",
   "metadata": {},
   "source": [
    "#### Q8\n",
    "\n",
    "Given a list of 50 natural numbers, create a function that will take every element from the list and return the square of each element. Use python map and filter methods to implement the function on the given list."
   ]
  },
  {
   "cell_type": "code",
   "execution_count": 11,
   "id": "e64ae922-427d-4ccf-a8bb-502f1f840096",
   "metadata": {},
   "outputs": [
    {
     "name": "stdout",
     "output_type": "stream",
     "text": [
      "[1, 4, 9, 16, 25, 36, 49, 64, 81, 100, 121, 144, 169, 196, 225, 256, 289, 324, 361, 400, 441, 484, 529, 576, 625, 676, 729, 784, 841, 900, 961, 1024, 1089, 1156, 1225, 1296, 1369, 1444, 1521, 1600, 1681, 1764, 1849, 1936, 2025, 2116, 2209, 2304, 2401, 2500]\n"
     ]
    }
   ],
   "source": [
    "N = list(range(1, 51))\n",
    "\n",
    "def square_of_list(l):\n",
    "    return list(map(lambda x: x**2, l))\n",
    "\n",
    "print(square_of_list(N))"
   ]
  },
  {
   "cell_type": "markdown",
   "id": "f66d131e-84bc-46f3-aa7c-6b3215046389",
   "metadata": {},
   "source": [
    "#### Q9 - Q12 "
   ]
  },
  {
   "cell_type": "code",
   "execution_count": 12,
   "id": "17cde413-677d-4b97-ad04-e457d3a45efa",
   "metadata": {},
   "outputs": [],
   "source": [
    "class Triangle(object):\n",
    "    number_of_sides = 3\n",
    "    def __init__(self, angle1, angle2, angle3):\n",
    "        self.angle1 = angle1\n",
    "        self.angle2 = angle2\n",
    "        self.angle3 = angle3\n",
    "\n",
    "    def check_angles(self):\n",
    "        sums = self.angle1 + self.angle2 + self.angle3\n",
    "        if sums == 180:\n",
    "            return True\n",
    "        else:\n",
    "            print('Not a Triangle')\n",
    "            return False\n",
    "\n",
    "    def check_acute(self):\n",
    "        if self.check_angles():\n",
    "            if self.angle1 <= 90 and self.angle2 <= 90 and self.angle3 <= 90:\n",
    "                print('Acute triangle')\n",
    "            else:\n",
    "                print('Obtuse triangle')"
   ]
  },
  {
   "cell_type": "code",
   "execution_count": 13,
   "id": "9ce0a354-8e2d-4a9f-9a82-63a47234a745",
   "metadata": {},
   "outputs": [
    {
     "name": "stdout",
     "output_type": "stream",
     "text": [
      "Triangle1: \n",
      "Acute triangle\n",
      "Triangle2: \n",
      "Obtuse triangle\n",
      "Triangle3: \n",
      "Not a Triangle\n"
     ]
    }
   ],
   "source": [
    "print('Triangle1: ')\n",
    "t1 = Triangle(10, 90, 80)\n",
    "t1.check_acute()\n",
    "print('Triangle2: ')\n",
    "t2 = Triangle(10, 150, 20)\n",
    "t2.check_acute()\n",
    "print('Triangle3: ')\n",
    "t3 = Triangle(10, 20, 30)\n",
    "t3.check_acute()"
   ]
  },
  {
   "cell_type": "code",
   "execution_count": 14,
   "id": "60b25745-13f9-4216-a455-29389284a83e",
   "metadata": {},
   "outputs": [
    {
     "name": "stdout",
     "output_type": "stream",
     "text": [
      "Isosceles: \n",
      "True\n",
      "Right angled: \n",
      "True\n",
      "Equilateral: \n",
      "True\n"
     ]
    }
   ],
   "source": [
    "class IsoscelesTriangle(Triangle):\n",
    "    def __init__(self, angle1, angle2, angle3):\n",
    "        super().__init__(angle1, angle2, angle3)\n",
    "\n",
    "    def check_isosceles(self):\n",
    "        if self.check_angles():\n",
    "            if (self.angle1 == self.angle2 or self.angle2 == self.angle3 or self.angle3 == self.angle1) and not (self.angle1 == self.angle2 == self.angle3):\n",
    "                return True\n",
    "        return False\n",
    "\n",
    "class RightTriangle(Triangle):\n",
    "    def __init__(self, angle1, angle2, angle3):\n",
    "        super().__init__(angle1, angle2, angle3)\n",
    "\n",
    "    def check_right(self):\n",
    "        if self.check_angles():\n",
    "            if (self.angle1 == 90 or self.angle2 == 90 or self.angle3 == 90):\n",
    "                return True\n",
    "        return False\n",
    "\n",
    "class EquilateralTriangle(Triangle):\n",
    "    def __init__(self, angle1, angle2, angle3):\n",
    "        super().__init__(angle1, angle2, angle3)\n",
    "\n",
    "    def check_equilateral(self):\n",
    "        if self.check_angles():\n",
    "            if (self.angle1 == self.angle2 == self.angle3):\n",
    "                return True\n",
    "        return False\n",
    "\n",
    "print('Isosceles: ')\n",
    "isosceles = IsoscelesTriangle(20, 80, 80)\n",
    "print(isosceles.check_isosceles())\n",
    "\n",
    "print('Right angled: ')\n",
    "right = RightTriangle(90, 60, 30)\n",
    "print(right.check_right())\n",
    "\n",
    "print('Equilateral: ')\n",
    "equi = EquilateralTriangle(60, 60, 60)\n",
    "print(equi.check_equilateral())"
   ]
  },
  {
   "cell_type": "code",
   "execution_count": 16,
   "id": "569600b2-e4e6-4b6c-a5e7-308ce69496e7",
   "metadata": {},
   "outputs": [
    {
     "name": "stdout",
     "output_type": "stream",
     "text": [
      "True\n",
      "False\n"
     ]
    }
   ],
   "source": [
    "class IsoscelesRightTriangle(IsoscelesTriangle, RightTriangle):\n",
    "    def __init__(self, angle1, angle2, angle3):\n",
    "        super().__init__(angle1, angle2, angle3)\n",
    "\n",
    "    def check_iso_right(self):\n",
    "        if self.check_isosceles() and self.check_right():\n",
    "            return True\n",
    "        return False\n",
    "\n",
    "iso_right_triangle = IsoscelesRightTriangle(90, 45, 45)\n",
    "print(iso_right_triangle.check_iso_right())\n",
    "\n",
    "t2 = IsoscelesRightTriangle(90, 60, 30)\n",
    "print(t2.check_iso_right())"
   ]
  },
  {
   "cell_type": "code",
   "execution_count": null,
   "id": "8add5849-0d9c-47ee-adec-5c34c7e32beb",
   "metadata": {},
   "outputs": [],
   "source": []
  }
 ],
 "metadata": {
  "kernelspec": {
   "display_name": "Python 3 (ipykernel)",
   "language": "python",
   "name": "python3"
  },
  "language_info": {
   "codemirror_mode": {
    "name": "ipython",
    "version": 3
   },
   "file_extension": ".py",
   "mimetype": "text/x-python",
   "name": "python",
   "nbconvert_exporter": "python",
   "pygments_lexer": "ipython3",
   "version": "3.10.13"
  }
 },
 "nbformat": 4,
 "nbformat_minor": 5
}
